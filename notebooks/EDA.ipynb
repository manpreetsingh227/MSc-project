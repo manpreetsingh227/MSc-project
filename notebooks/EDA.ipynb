{
 "cells": [
  {
   "attachments": {},
   "cell_type": "markdown",
   "metadata": {},
   "source": [
    "Define functions to load in tables of varying depth"
   ]
  },
  {
   "cell_type": "code",
   "execution_count": 1,
   "metadata": {},
   "outputs": [],
   "source": [
    "import pandas as pd\n",
    "def filter_df(fname):\n",
    "    # Load the entire DataFrame from a Parquet file\n",
    "    df = pd.read_parquet(path + fname + '.parquet')\n",
    "\n",
    "    for col in df.columns:\n",
    "        if col[-1] in (\"P\", \"A\"):\n",
    "            df[col] = df[col].astype('float32')\n",
    "\n",
    "        if df[col].dtype.name in ['object', 'string']:\n",
    "            df[col] = df[col].astype(\"string\").astype('category')\n",
    "            current_categories = df[col].cat.categories\n",
    "            new_categories = current_categories.to_list() + [\"Unknown\"]\n",
    "            new_dtype = pd.CategoricalDtype(categories=new_categories, ordered=True)\n",
    "            df[col] = df[col].astype(new_dtype)\n",
    "\n",
    "    return df\n",
    "\n",
    "def depth1_feats(df):\n",
    "    numeric_cols = df.select_dtypes(include=['number']).columns.tolist()\n",
    "    numeric_cols.remove('case_id')\n",
    "    numeric_cols.remove('num_group1')\n",
    "    aggfeats = df.groupby('case_id')[numeric_cols].agg('sum').reset_index()\n",
    "\n",
    "    notnum_cols = df.select_dtypes(exclude=['number']).columns.tolist()\n",
    "    notnum_cols.append('case_id')\n",
    "    filfeats = df[df['num_group1'] == 0]\n",
    "    filfeats = filfeats.drop('num_group1', axis=1)\n",
    "    filfeats = filfeats.filter(items=notnum_cols)\n",
    "    return pd.merge(filfeats, aggfeats, how='left', on='case_id')\n",
    "\n",
    "def depth2_feats(df):\n",
    "    numeric_cols = df.select_dtypes(include=['number']).columns.tolist()\n",
    "    numeric_cols.remove('case_id')\n",
    "    numeric_cols.remove('num_group1')\n",
    "    numeric_cols.remove('num_group2')\n",
    "    aggfeats = df.groupby('case_id')[numeric_cols].agg('sum').reset_index()\n",
    "\n",
    "    notnum_cols = df.select_dtypes(exclude=['number']).columns.tolist()\n",
    "    notnum_cols.append('case_id')\n",
    "    df = df[df['num_group1'] == 0]\n",
    "    df = df[df['num_group2'] == 0]\n",
    "    filterdf = df.drop(['num_group1', 'num_group2'], axis=1)\n",
    "    filterdf = filterdf.filter(items=notnum_cols)\n",
    "    return pd.merge(filterdf, aggfeats, how='left', on='case_id') "
   ]
  },
  {
   "attachments": {},
   "cell_type": "markdown",
   "metadata": {},
   "source": [
    "Load in base table"
   ]
  },
  {
   "cell_type": "code",
   "execution_count": 2,
   "metadata": {},
   "outputs": [],
   "source": [
    "path = '/rds/general/user/ms2524/home/amexproject/parquet_files/train/train_'\n",
    "base_cba = pd.read_parquet(path + \"base.parquet\", columns=['case_id','WEEK_NUM','target'])"
   ]
  },
  {
   "attachments": {},
   "cell_type": "markdown",
   "metadata": {},
   "source": [
    "## Depth = 2"
   ]
  },
  {
   "attachments": {},
   "cell_type": "markdown",
   "metadata": {},
   "source": [
    "### Credit Bureua A"
   ]
  },
  {
   "cell_type": "code",
   "execution_count": 3,
   "metadata": {},
   "outputs": [],
   "source": [
    "all_chunks = []\n",
    "for id in range(11):\n",
    "    df = filter_df(f'credit_bureau_a_2_{id}')\n",
    "    processed = depth2_feats(df)\n",
    "    all_chunks.append(processed)\n",
    "\n",
    "# Concatenate everything at once\n",
    "tmp = pd.concat(all_chunks, ignore_index=True)\n",
    "\n",
    "# Merge with base\n",
    "data_cba = pd.merge(base_cba, tmp, how=\"left\", on=\"case_id\")\n"
   ]
  },
  {
   "attachments": {},
   "cell_type": "markdown",
   "metadata": {},
   "source": [
    "### Previous application"
   ]
  },
  {
   "cell_type": "code",
   "execution_count": 4,
   "metadata": {},
   "outputs": [],
   "source": [
    "data_appl = pd.merge(\n",
    "    base_cba,\n",
    "    depth2_feats(filter_df('applprev_2')),\n",
    "    how=\"left\",\n",
    "    on=\"case_id\"\n",
    ")\n"
   ]
  },
  {
   "attachments": {},
   "cell_type": "markdown",
   "metadata": {},
   "source": [
    "## Depth = 1"
   ]
  },
  {
   "attachments": {},
   "cell_type": "markdown",
   "metadata": {},
   "source": [
    "### Credit Bureua A"
   ]
  },
  {
   "cell_type": "code",
   "execution_count": 5,
   "metadata": {},
   "outputs": [],
   "source": [
    "data_cba = pd.merge(\n",
    "    data_cba,\n",
    "    depth1_feats(pd.concat([filter_df(f'credit_bureau_a_1_{id}') for id in range(4)])),\n",
    "    how=\"left\",\n",
    "    on=\"case_id\"\n",
    ")"
   ]
  },
  {
   "attachments": {},
   "cell_type": "markdown",
   "metadata": {},
   "source": [
    "### Previous application"
   ]
  },
  {
   "cell_type": "code",
   "execution_count": 6,
   "metadata": {},
   "outputs": [],
   "source": [
    "data_appl = pd.merge(\n",
    "    data_appl,\n",
    "    depth1_feats(pd.concat([filter_df(f'applprev_1_{id}') for id in range(2)])),\n",
    "    how=\"left\",\n",
    "    on=\"case_id\"\n",
    ")\n"
   ]
  },
  {
   "attachments": {},
   "cell_type": "markdown",
   "metadata": {},
   "source": [
    "### Train person"
   ]
  },
  {
   "cell_type": "code",
   "execution_count": 7,
   "metadata": {},
   "outputs": [],
   "source": [
    "data_person_1_train = pd.merge(\n",
    "    base_cba,\n",
    "    depth1_feats(filter_df('person_1')),\n",
    "    how=\"left\",\n",
    "    on=\"case_id\"\n",
    ")"
   ]
  },
  {
   "attachments": {},
   "cell_type": "markdown",
   "metadata": {},
   "source": [
    "## Depth = 0"
   ]
  },
  {
   "attachments": {},
   "cell_type": "markdown",
   "metadata": {},
   "source": [
    "### Train Static"
   ]
  },
  {
   "cell_type": "code",
   "execution_count": 8,
   "metadata": {},
   "outputs": [],
   "source": [
    "columns_to_keep = [\n",
    "    'case_id', 'annuity_780A', 'credamount_770A', 'disbursedcredamount_1113A', \n",
    "    'eir_270L', 'pmtnum_254L', 'lastst_736L', 'totalsettled_863A', \n",
    "    'numrejects9m_859L', 'currdebt_22A'\n",
    "]\n",
    "\n",
    "data_static_train = pd.merge(\n",
    "    base_cba,\n",
    "    pd.concat([\n",
    "        filter_df(f'static_0_{id}')[columns_to_keep]\n",
    "        for id in range(2)\n",
    "    ], ignore_index=True),\n",
    "    how=\"left\",\n",
    "    on=\"case_id\"\n",
    ")"
   ]
  },
  {
   "attachments": {},
   "cell_type": "markdown",
   "metadata": {},
   "source": [
    "## Feature selection "
   ]
  },
  {
   "cell_type": "code",
   "execution_count": 9,
   "metadata": {},
   "outputs": [],
   "source": [
    "for col in data_cba.columns:\n",
    "    if col.endswith('D'):\n",
    "        data_cba[col] = pd.to_datetime(data_cba[col], errors='coerce')\n",
    "\n",
    "\n",
    "for col in data_cba.select_dtypes(include=['object']).columns:\n",
    "    data_cba[col] = data_cba[col].astype('category')\n",
    "\n",
    "for col in data_appl.columns:\n",
    "    if col.endswith('D'):\n",
    "        data_appl[col] = pd.to_datetime(data_appl[col], errors='coerce')\n",
    "\n",
    "for col in data_appl.select_dtypes(include=['object']).columns:\n",
    "    data_appl[col] = data_appl[col].astype('category')\n",
    "\n",
    "for col in data_static_train.columns:\n",
    "    if col.endswith('D'):\n",
    "        data_static_train[col] = pd.to_datetime(data_static_train[col], errors='coerce')\n",
    "\n",
    "for col in data_static_train.select_dtypes(include=['object']).columns:\n",
    "    data_static_train[col] = data_static_train[col].astype('category')\n",
    "\n",
    "for col in data_person_1_train.columns:\n",
    "    if col.endswith('D'):\n",
    "        data_person_1_train[col] = pd.to_datetime(data_person_1_train[col], errors='coerce')\n",
    "\n",
    "for col in data_person_1_train.select_dtypes(include=['object']).columns:\n",
    "    data_person_1_train[col] = data_person_1_train[col].astype('category')"
   ]
  },
  {
   "cell_type": "code",
   "execution_count": 10,
   "metadata": {},
   "outputs": [],
   "source": [
    "import numpy as np\n",
    "cb_features = ['case_id', 'WEEK_NUM','pmts_dpd_1073P', 'pmts_dpd_303P', 'dpdmax_139P', 'numberofoverdueinstlmax_1039L', 'numberofoverdueinstls_725L', 'collaterals_typeofguarante_359M', 'classificationofcontr_400M', 'subjectrole_93M', 'target']\n",
    "data1_cba=data_cba[cb_features]\n",
    "data1_cba = data1_cba.copy()\n",
    "data1_cba.replace(['na', 'NaN', '#########'], np.nan, inplace=True)\n",
    "\n",
    "applprev_features = ['case_id', 'WEEK_NUM','maxdpdtolerance_577P', 'cacccardblochreas_147M', 'rejectreason_755M','target']\n",
    "data1_appl=data_appl[applprev_features]\n",
    "data1_appl = data1_appl.copy()\n",
    "data1_appl.replace(['na', 'NaN', '#########'], np.nan, inplace=True)\n",
    "\n",
    "static_features = ['case_id', 'WEEK_NUM','annuity_780A', 'credamount_770A', 'disbursedcredamount_1113A', 'eir_270L', 'pmtnum_254L', 'lastst_736L']\n",
    "data_static_train_1 = data_static_train[static_features]\n",
    "data_static_train_1 = data_static_train_1.copy()\n",
    "data_static_train_1.replace(['na', 'NaN', '#########'], np.nan, inplace=True)\n",
    "\n",
    "person_features = ['case_id', 'WEEK_NUM','personindex_1023L', 'persontype_1072L', 'persontype_792L', 'empladdr_zipcode_114M', 'incometype_1044T', 'safeguarantyflag_411L', 'type_25L','target']\n",
    "data_person_1_train_1 = data_person_1_train[person_features]\n",
    "data_person_1_train_1 = data_person_1_train_1.copy()\n",
    "data_person_1_train_1.replace(['na', 'NaN', '#########'], np.nan, inplace=True)"
   ]
  },
  {
   "cell_type": "code",
   "execution_count": 11,
   "metadata": {},
   "outputs": [],
   "source": [
    "from sklearn.impute import SimpleImputer\n",
    "from sklearn.preprocessing import OrdinalEncoder\n",
    "import pandas as pd\n",
    "import numpy as np\n",
    "\n",
    "\n",
    "# Split by WEEK_NUM into equal segments\n",
    "def split_by_week(df, n):\n",
    "    min_week = df[\"WEEK_NUM\"].min()\n",
    "    max_week = df[\"WEEK_NUM\"].max()\n",
    "    bins = np.linspace(min_week, max_week + 1, n + 1, dtype=int)\n",
    "\n",
    "    segments = {}\n",
    "    for i in range(n):\n",
    "        lower = bins[i]\n",
    "        upper = bins[i + 1]\n",
    "        key = f\"split_{i}\"\n",
    "        segments[key] = df[(df[\"WEEK_NUM\"] >= lower) & (df[\"WEEK_NUM\"] < upper)].copy()\n",
    "\n",
    "    return segments\n",
    "\n",
    "def preprocess_split(train_df, test_df):\n",
    "    exclude_columns = {'case_id', 'WEEK_NUM', 'target'}\n",
    "    numcols = []\n",
    "    catcols = []\n",
    "\n",
    "    # Separate numeric and categorical columns\n",
    "    for col in train_df.columns:\n",
    "        if col in exclude_columns:\n",
    "            continue\n",
    "        if pd.api.types.is_numeric_dtype(train_df[col]):\n",
    "            numcols.append(col)\n",
    "        elif pd.api.types.is_object_dtype(train_df[col]) or pd.api.types.is_categorical_dtype(train_df[col]):\n",
    "            catcols.append(col)\n",
    "\n",
    "    # Impute numeric columns\n",
    "    for col in numcols:\n",
    "        if train_df[col].isnull().any():\n",
    "            strategy = 'median' if abs(train_df[col].skew()) > 0.5 else 'mean'\n",
    "            imputer = SimpleImputer(strategy=strategy)\n",
    "            train_df[[col]] = imputer.fit_transform(train_df[[col]])\n",
    "            test_df[[col]] = imputer.transform(test_df[[col]])\n",
    "\n",
    "    # Handle categorical columns: fill NA with \"Unknown\"\n",
    "    for col in catcols:\n",
    "        for df in [train_df, test_df]:\n",
    "            if \"Unknown\" not in df[col].cat.categories:\n",
    "                df[col] = df[col].cat.add_categories(\"Unknown\")\n",
    "\n",
    "        # Fill missing values\n",
    "        train_df[col] = train_df[col].fillna(\"Unknown\")\n",
    "        test_df[col] = test_df[col].fillna(\"Unknown\")\n",
    "\n",
    "    # Ordinal encode\n",
    "    encoder = OrdinalEncoder(handle_unknown='use_encoded_value', unknown_value=-1)\n",
    "    train_df[catcols] = encoder.fit_transform(train_df[catcols])\n",
    "    test_df[catcols] = encoder.transform(test_df[catcols])\n",
    "\n",
    "    return train_df, test_df\n",
    "\n",
    "def preprocess_all_segments(df, n):\n",
    "    segments = split_by_week(df, n)\n",
    "    base_train = segments[\"split_0\"].copy()\n",
    "    processed_segments = {}\n",
    "\n",
    "    for key, segment_df in segments.items():\n",
    "        train_proc, test_proc = preprocess_split(base_train.copy(), segment_df.copy())\n",
    "        processed_segments[key] = test_proc\n",
    "\n",
    "    return processed_segments"
   ]
  },
  {
   "cell_type": "code",
   "execution_count": 12,
   "metadata": {},
   "outputs": [],
   "source": [
    "def merge_all_segments(cba_splits, static_splits, person_splits, appl_splits):\n",
    "    merged_segments = {}\n",
    "\n",
    "    drop_cols = ['WEEK_NUM', 'target']\n",
    "\n",
    "    for split_name in cba_splits:\n",
    "        cba = cba_splits[split_name]\n",
    "        static = static_splits[split_name].drop(columns=[col for col in drop_cols if col in static_splits[split_name].columns])\n",
    "        person = person_splits[split_name].drop(columns=[col for col in drop_cols if col in person_splits[split_name].columns])\n",
    "        appl = appl_splits[split_name].drop(columns=[col for col in drop_cols if col in appl_splits[split_name].columns])\n",
    "\n",
    "        merged = cba.merge(static, on=\"case_id\", how=\"inner\") \\\n",
    "                    .merge(person, on=\"case_id\", how=\"inner\") \\\n",
    "                    .merge(appl, on=\"case_id\", how=\"inner\")\n",
    "\n",
    "        merged_segments[split_name] = merged\n",
    "\n",
    "    return merged_segments\n"
   ]
  },
  {
   "cell_type": "code",
   "execution_count": 13,
   "metadata": {},
   "outputs": [
    {
     "name": "stderr",
     "output_type": "stream",
     "text": [
      "/rds/general/user/ms2524/ephemeral/ipykernel_2817023/2189584386.py:33: DeprecationWarning: is_categorical_dtype is deprecated and will be removed in a future version. Use isinstance(dtype, pd.CategoricalDtype) instead\n",
      "  elif pd.api.types.is_object_dtype(train_df[col]) or pd.api.types.is_categorical_dtype(train_df[col]):\n",
      "/rds/general/user/ms2524/ephemeral/ipykernel_2817023/2189584386.py:33: DeprecationWarning: is_categorical_dtype is deprecated and will be removed in a future version. Use isinstance(dtype, pd.CategoricalDtype) instead\n",
      "  elif pd.api.types.is_object_dtype(train_df[col]) or pd.api.types.is_categorical_dtype(train_df[col]):\n",
      "/rds/general/user/ms2524/ephemeral/ipykernel_2817023/2189584386.py:33: DeprecationWarning: is_categorical_dtype is deprecated and will be removed in a future version. Use isinstance(dtype, pd.CategoricalDtype) instead\n",
      "  elif pd.api.types.is_object_dtype(train_df[col]) or pd.api.types.is_categorical_dtype(train_df[col]):\n",
      "/rds/general/user/ms2524/ephemeral/ipykernel_2817023/2189584386.py:33: DeprecationWarning: is_categorical_dtype is deprecated and will be removed in a future version. Use isinstance(dtype, pd.CategoricalDtype) instead\n",
      "  elif pd.api.types.is_object_dtype(train_df[col]) or pd.api.types.is_categorical_dtype(train_df[col]):\n",
      "/rds/general/user/ms2524/ephemeral/ipykernel_2817023/2189584386.py:33: DeprecationWarning: is_categorical_dtype is deprecated and will be removed in a future version. Use isinstance(dtype, pd.CategoricalDtype) instead\n",
      "  elif pd.api.types.is_object_dtype(train_df[col]) or pd.api.types.is_categorical_dtype(train_df[col]):\n",
      "/rds/general/user/ms2524/ephemeral/ipykernel_2817023/2189584386.py:33: DeprecationWarning: is_categorical_dtype is deprecated and will be removed in a future version. Use isinstance(dtype, pd.CategoricalDtype) instead\n",
      "  elif pd.api.types.is_object_dtype(train_df[col]) or pd.api.types.is_categorical_dtype(train_df[col]):\n",
      "/rds/general/user/ms2524/ephemeral/ipykernel_2817023/2189584386.py:33: DeprecationWarning: is_categorical_dtype is deprecated and will be removed in a future version. Use isinstance(dtype, pd.CategoricalDtype) instead\n",
      "  elif pd.api.types.is_object_dtype(train_df[col]) or pd.api.types.is_categorical_dtype(train_df[col]):\n",
      "/rds/general/user/ms2524/ephemeral/ipykernel_2817023/2189584386.py:33: DeprecationWarning: is_categorical_dtype is deprecated and will be removed in a future version. Use isinstance(dtype, pd.CategoricalDtype) instead\n",
      "  elif pd.api.types.is_object_dtype(train_df[col]) or pd.api.types.is_categorical_dtype(train_df[col]):\n",
      "/rds/general/user/ms2524/ephemeral/ipykernel_2817023/2189584386.py:33: DeprecationWarning: is_categorical_dtype is deprecated and will be removed in a future version. Use isinstance(dtype, pd.CategoricalDtype) instead\n",
      "  elif pd.api.types.is_object_dtype(train_df[col]) or pd.api.types.is_categorical_dtype(train_df[col]):\n",
      "/rds/general/user/ms2524/ephemeral/ipykernel_2817023/2189584386.py:33: DeprecationWarning: is_categorical_dtype is deprecated and will be removed in a future version. Use isinstance(dtype, pd.CategoricalDtype) instead\n",
      "  elif pd.api.types.is_object_dtype(train_df[col]) or pd.api.types.is_categorical_dtype(train_df[col]):\n",
      "/rds/general/user/ms2524/ephemeral/ipykernel_2817023/2189584386.py:33: DeprecationWarning: is_categorical_dtype is deprecated and will be removed in a future version. Use isinstance(dtype, pd.CategoricalDtype) instead\n",
      "  elif pd.api.types.is_object_dtype(train_df[col]) or pd.api.types.is_categorical_dtype(train_df[col]):\n",
      "/rds/general/user/ms2524/ephemeral/ipykernel_2817023/2189584386.py:33: DeprecationWarning: is_categorical_dtype is deprecated and will be removed in a future version. Use isinstance(dtype, pd.CategoricalDtype) instead\n",
      "  elif pd.api.types.is_object_dtype(train_df[col]) or pd.api.types.is_categorical_dtype(train_df[col]):\n",
      "/rds/general/user/ms2524/ephemeral/ipykernel_2817023/2189584386.py:33: DeprecationWarning: is_categorical_dtype is deprecated and will be removed in a future version. Use isinstance(dtype, pd.CategoricalDtype) instead\n",
      "  elif pd.api.types.is_object_dtype(train_df[col]) or pd.api.types.is_categorical_dtype(train_df[col]):\n",
      "/rds/general/user/ms2524/ephemeral/ipykernel_2817023/2189584386.py:33: DeprecationWarning: is_categorical_dtype is deprecated and will be removed in a future version. Use isinstance(dtype, pd.CategoricalDtype) instead\n",
      "  elif pd.api.types.is_object_dtype(train_df[col]) or pd.api.types.is_categorical_dtype(train_df[col]):\n",
      "/rds/general/user/ms2524/ephemeral/ipykernel_2817023/2189584386.py:33: DeprecationWarning: is_categorical_dtype is deprecated and will be removed in a future version. Use isinstance(dtype, pd.CategoricalDtype) instead\n",
      "  elif pd.api.types.is_object_dtype(train_df[col]) or pd.api.types.is_categorical_dtype(train_df[col]):\n",
      "/rds/general/user/ms2524/ephemeral/ipykernel_2817023/2189584386.py:33: DeprecationWarning: is_categorical_dtype is deprecated and will be removed in a future version. Use isinstance(dtype, pd.CategoricalDtype) instead\n",
      "  elif pd.api.types.is_object_dtype(train_df[col]) or pd.api.types.is_categorical_dtype(train_df[col]):\n",
      "/rds/general/user/ms2524/ephemeral/ipykernel_2817023/2189584386.py:33: DeprecationWarning: is_categorical_dtype is deprecated and will be removed in a future version. Use isinstance(dtype, pd.CategoricalDtype) instead\n",
      "  elif pd.api.types.is_object_dtype(train_df[col]) or pd.api.types.is_categorical_dtype(train_df[col]):\n",
      "/rds/general/user/ms2524/ephemeral/ipykernel_2817023/2189584386.py:33: DeprecationWarning: is_categorical_dtype is deprecated and will be removed in a future version. Use isinstance(dtype, pd.CategoricalDtype) instead\n",
      "  elif pd.api.types.is_object_dtype(train_df[col]) or pd.api.types.is_categorical_dtype(train_df[col]):\n",
      "/rds/general/user/ms2524/ephemeral/ipykernel_2817023/2189584386.py:33: DeprecationWarning: is_categorical_dtype is deprecated and will be removed in a future version. Use isinstance(dtype, pd.CategoricalDtype) instead\n",
      "  elif pd.api.types.is_object_dtype(train_df[col]) or pd.api.types.is_categorical_dtype(train_df[col]):\n",
      "/rds/general/user/ms2524/ephemeral/ipykernel_2817023/2189584386.py:33: DeprecationWarning: is_categorical_dtype is deprecated and will be removed in a future version. Use isinstance(dtype, pd.CategoricalDtype) instead\n",
      "  elif pd.api.types.is_object_dtype(train_df[col]) or pd.api.types.is_categorical_dtype(train_df[col]):\n",
      "/rds/general/user/ms2524/ephemeral/ipykernel_2817023/2189584386.py:33: DeprecationWarning: is_categorical_dtype is deprecated and will be removed in a future version. Use isinstance(dtype, pd.CategoricalDtype) instead\n",
      "  elif pd.api.types.is_object_dtype(train_df[col]) or pd.api.types.is_categorical_dtype(train_df[col]):\n",
      "/rds/general/user/ms2524/ephemeral/ipykernel_2817023/2189584386.py:33: DeprecationWarning: is_categorical_dtype is deprecated and will be removed in a future version. Use isinstance(dtype, pd.CategoricalDtype) instead\n",
      "  elif pd.api.types.is_object_dtype(train_df[col]) or pd.api.types.is_categorical_dtype(train_df[col]):\n",
      "/rds/general/user/ms2524/ephemeral/ipykernel_2817023/2189584386.py:33: DeprecationWarning: is_categorical_dtype is deprecated and will be removed in a future version. Use isinstance(dtype, pd.CategoricalDtype) instead\n",
      "  elif pd.api.types.is_object_dtype(train_df[col]) or pd.api.types.is_categorical_dtype(train_df[col]):\n",
      "/rds/general/user/ms2524/ephemeral/ipykernel_2817023/2189584386.py:33: DeprecationWarning: is_categorical_dtype is deprecated and will be removed in a future version. Use isinstance(dtype, pd.CategoricalDtype) instead\n",
      "  elif pd.api.types.is_object_dtype(train_df[col]) or pd.api.types.is_categorical_dtype(train_df[col]):\n",
      "/rds/general/user/ms2524/ephemeral/ipykernel_2817023/2189584386.py:33: DeprecationWarning: is_categorical_dtype is deprecated and will be removed in a future version. Use isinstance(dtype, pd.CategoricalDtype) instead\n",
      "  elif pd.api.types.is_object_dtype(train_df[col]) or pd.api.types.is_categorical_dtype(train_df[col]):\n",
      "/rds/general/user/ms2524/ephemeral/ipykernel_2817023/2189584386.py:33: DeprecationWarning: is_categorical_dtype is deprecated and will be removed in a future version. Use isinstance(dtype, pd.CategoricalDtype) instead\n",
      "  elif pd.api.types.is_object_dtype(train_df[col]) or pd.api.types.is_categorical_dtype(train_df[col]):\n",
      "/rds/general/user/ms2524/ephemeral/ipykernel_2817023/2189584386.py:33: DeprecationWarning: is_categorical_dtype is deprecated and will be removed in a future version. Use isinstance(dtype, pd.CategoricalDtype) instead\n",
      "  elif pd.api.types.is_object_dtype(train_df[col]) or pd.api.types.is_categorical_dtype(train_df[col]):\n",
      "/rds/general/user/ms2524/ephemeral/ipykernel_2817023/2189584386.py:33: DeprecationWarning: is_categorical_dtype is deprecated and will be removed in a future version. Use isinstance(dtype, pd.CategoricalDtype) instead\n",
      "  elif pd.api.types.is_object_dtype(train_df[col]) or pd.api.types.is_categorical_dtype(train_df[col]):\n",
      "/rds/general/user/ms2524/ephemeral/ipykernel_2817023/2189584386.py:33: DeprecationWarning: is_categorical_dtype is deprecated and will be removed in a future version. Use isinstance(dtype, pd.CategoricalDtype) instead\n",
      "  elif pd.api.types.is_object_dtype(train_df[col]) or pd.api.types.is_categorical_dtype(train_df[col]):\n",
      "/rds/general/user/ms2524/ephemeral/ipykernel_2817023/2189584386.py:33: DeprecationWarning: is_categorical_dtype is deprecated and will be removed in a future version. Use isinstance(dtype, pd.CategoricalDtype) instead\n",
      "  elif pd.api.types.is_object_dtype(train_df[col]) or pd.api.types.is_categorical_dtype(train_df[col]):\n",
      "/rds/general/user/ms2524/ephemeral/ipykernel_2817023/2189584386.py:33: DeprecationWarning: is_categorical_dtype is deprecated and will be removed in a future version. Use isinstance(dtype, pd.CategoricalDtype) instead\n",
      "  elif pd.api.types.is_object_dtype(train_df[col]) or pd.api.types.is_categorical_dtype(train_df[col]):\n",
      "/rds/general/user/ms2524/ephemeral/ipykernel_2817023/2189584386.py:33: DeprecationWarning: is_categorical_dtype is deprecated and will be removed in a future version. Use isinstance(dtype, pd.CategoricalDtype) instead\n",
      "  elif pd.api.types.is_object_dtype(train_df[col]) or pd.api.types.is_categorical_dtype(train_df[col]):\n",
      "/rds/general/user/ms2524/ephemeral/ipykernel_2817023/2189584386.py:33: DeprecationWarning: is_categorical_dtype is deprecated and will be removed in a future version. Use isinstance(dtype, pd.CategoricalDtype) instead\n",
      "  elif pd.api.types.is_object_dtype(train_df[col]) or pd.api.types.is_categorical_dtype(train_df[col]):\n",
      "/rds/general/user/ms2524/ephemeral/ipykernel_2817023/2189584386.py:33: DeprecationWarning: is_categorical_dtype is deprecated and will be removed in a future version. Use isinstance(dtype, pd.CategoricalDtype) instead\n",
      "  elif pd.api.types.is_object_dtype(train_df[col]) or pd.api.types.is_categorical_dtype(train_df[col]):\n",
      "/rds/general/user/ms2524/ephemeral/ipykernel_2817023/2189584386.py:33: DeprecationWarning: is_categorical_dtype is deprecated and will be removed in a future version. Use isinstance(dtype, pd.CategoricalDtype) instead\n",
      "  elif pd.api.types.is_object_dtype(train_df[col]) or pd.api.types.is_categorical_dtype(train_df[col]):\n",
      "/rds/general/user/ms2524/ephemeral/ipykernel_2817023/2189584386.py:33: DeprecationWarning: is_categorical_dtype is deprecated and will be removed in a future version. Use isinstance(dtype, pd.CategoricalDtype) instead\n",
      "  elif pd.api.types.is_object_dtype(train_df[col]) or pd.api.types.is_categorical_dtype(train_df[col]):\n",
      "/rds/general/user/ms2524/ephemeral/ipykernel_2817023/2189584386.py:33: DeprecationWarning: is_categorical_dtype is deprecated and will be removed in a future version. Use isinstance(dtype, pd.CategoricalDtype) instead\n",
      "  elif pd.api.types.is_object_dtype(train_df[col]) or pd.api.types.is_categorical_dtype(train_df[col]):\n",
      "/rds/general/user/ms2524/ephemeral/ipykernel_2817023/2189584386.py:33: DeprecationWarning: is_categorical_dtype is deprecated and will be removed in a future version. Use isinstance(dtype, pd.CategoricalDtype) instead\n",
      "  elif pd.api.types.is_object_dtype(train_df[col]) or pd.api.types.is_categorical_dtype(train_df[col]):\n",
      "/rds/general/user/ms2524/ephemeral/ipykernel_2817023/2189584386.py:33: DeprecationWarning: is_categorical_dtype is deprecated and will be removed in a future version. Use isinstance(dtype, pd.CategoricalDtype) instead\n",
      "  elif pd.api.types.is_object_dtype(train_df[col]) or pd.api.types.is_categorical_dtype(train_df[col]):\n",
      "/rds/general/user/ms2524/ephemeral/ipykernel_2817023/2189584386.py:33: DeprecationWarning: is_categorical_dtype is deprecated and will be removed in a future version. Use isinstance(dtype, pd.CategoricalDtype) instead\n",
      "  elif pd.api.types.is_object_dtype(train_df[col]) or pd.api.types.is_categorical_dtype(train_df[col]):\n",
      "/rds/general/user/ms2524/ephemeral/ipykernel_2817023/2189584386.py:33: DeprecationWarning: is_categorical_dtype is deprecated and will be removed in a future version. Use isinstance(dtype, pd.CategoricalDtype) instead\n",
      "  elif pd.api.types.is_object_dtype(train_df[col]) or pd.api.types.is_categorical_dtype(train_df[col]):\n",
      "/rds/general/user/ms2524/ephemeral/ipykernel_2817023/2189584386.py:33: DeprecationWarning: is_categorical_dtype is deprecated and will be removed in a future version. Use isinstance(dtype, pd.CategoricalDtype) instead\n",
      "  elif pd.api.types.is_object_dtype(train_df[col]) or pd.api.types.is_categorical_dtype(train_df[col]):\n",
      "/rds/general/user/ms2524/ephemeral/ipykernel_2817023/2189584386.py:33: DeprecationWarning: is_categorical_dtype is deprecated and will be removed in a future version. Use isinstance(dtype, pd.CategoricalDtype) instead\n",
      "  elif pd.api.types.is_object_dtype(train_df[col]) or pd.api.types.is_categorical_dtype(train_df[col]):\n",
      "/rds/general/user/ms2524/ephemeral/ipykernel_2817023/2189584386.py:33: DeprecationWarning: is_categorical_dtype is deprecated and will be removed in a future version. Use isinstance(dtype, pd.CategoricalDtype) instead\n",
      "  elif pd.api.types.is_object_dtype(train_df[col]) or pd.api.types.is_categorical_dtype(train_df[col]):\n",
      "/rds/general/user/ms2524/ephemeral/ipykernel_2817023/2189584386.py:33: DeprecationWarning: is_categorical_dtype is deprecated and will be removed in a future version. Use isinstance(dtype, pd.CategoricalDtype) instead\n",
      "  elif pd.api.types.is_object_dtype(train_df[col]) or pd.api.types.is_categorical_dtype(train_df[col]):\n",
      "/rds/general/user/ms2524/ephemeral/ipykernel_2817023/2189584386.py:33: DeprecationWarning: is_categorical_dtype is deprecated and will be removed in a future version. Use isinstance(dtype, pd.CategoricalDtype) instead\n",
      "  elif pd.api.types.is_object_dtype(train_df[col]) or pd.api.types.is_categorical_dtype(train_df[col]):\n",
      "/rds/general/user/ms2524/ephemeral/ipykernel_2817023/2189584386.py:33: DeprecationWarning: is_categorical_dtype is deprecated and will be removed in a future version. Use isinstance(dtype, pd.CategoricalDtype) instead\n",
      "  elif pd.api.types.is_object_dtype(train_df[col]) or pd.api.types.is_categorical_dtype(train_df[col]):\n",
      "/rds/general/user/ms2524/ephemeral/ipykernel_2817023/2189584386.py:33: DeprecationWarning: is_categorical_dtype is deprecated and will be removed in a future version. Use isinstance(dtype, pd.CategoricalDtype) instead\n",
      "  elif pd.api.types.is_object_dtype(train_df[col]) or pd.api.types.is_categorical_dtype(train_df[col]):\n",
      "/rds/general/user/ms2524/ephemeral/ipykernel_2817023/2189584386.py:33: DeprecationWarning: is_categorical_dtype is deprecated and will be removed in a future version. Use isinstance(dtype, pd.CategoricalDtype) instead\n",
      "  elif pd.api.types.is_object_dtype(train_df[col]) or pd.api.types.is_categorical_dtype(train_df[col]):\n",
      "/rds/general/user/ms2524/ephemeral/ipykernel_2817023/2189584386.py:33: DeprecationWarning: is_categorical_dtype is deprecated and will be removed in a future version. Use isinstance(dtype, pd.CategoricalDtype) instead\n",
      "  elif pd.api.types.is_object_dtype(train_df[col]) or pd.api.types.is_categorical_dtype(train_df[col]):\n",
      "/rds/general/user/ms2524/ephemeral/ipykernel_2817023/2189584386.py:33: DeprecationWarning: is_categorical_dtype is deprecated and will be removed in a future version. Use isinstance(dtype, pd.CategoricalDtype) instead\n",
      "  elif pd.api.types.is_object_dtype(train_df[col]) or pd.api.types.is_categorical_dtype(train_df[col]):\n",
      "/rds/general/user/ms2524/ephemeral/ipykernel_2817023/2189584386.py:33: DeprecationWarning: is_categorical_dtype is deprecated and will be removed in a future version. Use isinstance(dtype, pd.CategoricalDtype) instead\n",
      "  elif pd.api.types.is_object_dtype(train_df[col]) or pd.api.types.is_categorical_dtype(train_df[col]):\n"
     ]
    }
   ],
   "source": [
    "n_segments = 13\n",
    "\n",
    "cba_proc = preprocess_all_segments(data1_cba, n=n_segments)\n",
    "static_proc = preprocess_all_segments(data_static_train_1, n=n_segments)\n",
    "person_proc = preprocess_all_segments(data_person_1_train_1, n=n_segments)\n",
    "appl_proc = preprocess_all_segments(data1_appl, n=n_segments)\n",
    "\n",
    "final_segments = merge_all_segments(cba_proc, static_proc, person_proc, appl_proc)"
   ]
  },
  {
   "cell_type": "code",
   "execution_count": 18,
   "metadata": {},
   "outputs": [
    {
     "name": "stdout",
     "output_type": "stream",
     "text": [
      "<class 'pandas.core.frame.DataFrame'>\n",
      "RangeIndex: 115189 entries, 0 to 115188\n",
      "Data columns (total 27 columns):\n",
      " #   Column                           Non-Null Count   Dtype  \n",
      "---  ------                           --------------   -----  \n",
      " 0   case_id                          115189 non-null  int64  \n",
      " 1   WEEK_NUM                         115189 non-null  int64  \n",
      " 2   pmts_dpd_1073P                   115189 non-null  float32\n",
      " 3   pmts_dpd_303P                    115189 non-null  float32\n",
      " 4   dpdmax_139P                      115189 non-null  float32\n",
      " 5   numberofoverdueinstlmax_1039L    115189 non-null  float64\n",
      " 6   numberofoverdueinstls_725L       115189 non-null  float64\n",
      " 7   collaterals_typeofguarante_359M  115189 non-null  float64\n",
      " 8   classificationofcontr_400M       115189 non-null  float64\n",
      " 9   subjectrole_93M                  115189 non-null  float64\n",
      " 10  target                           115189 non-null  int64  \n",
      " 11  annuity_780A                     115189 non-null  float32\n",
      " 12  credamount_770A                  115189 non-null  float32\n",
      " 13  disbursedcredamount_1113A        115189 non-null  float32\n",
      " 14  eir_270L                         115189 non-null  float64\n",
      " 15  pmtnum_254L                      115189 non-null  float64\n",
      " 16  lastst_736L                      115189 non-null  float64\n",
      " 17  personindex_1023L                115189 non-null  float64\n",
      " 18  persontype_1072L                 115189 non-null  float64\n",
      " 19  persontype_792L                  115189 non-null  float64\n",
      " 20  empladdr_zipcode_114M            115189 non-null  float64\n",
      " 21  incometype_1044T                 115189 non-null  float64\n",
      " 22  safeguarantyflag_411L            115189 non-null  float64\n",
      " 23  type_25L                         115189 non-null  float64\n",
      " 24  maxdpdtolerance_577P             115189 non-null  float32\n",
      " 25  cacccardblochreas_147M           115189 non-null  float64\n",
      " 26  rejectreason_755M                115189 non-null  float64\n",
      "dtypes: float32(7), float64(17), int64(3)\n",
      "memory usage: 20.7 MB\n"
     ]
    }
   ],
   "source": [
    "final_segments['split_0'].info()"
   ]
  }
 ],
 "metadata": {
  "kernelspec": {
   "display_name": ".venv",
   "language": "python",
   "name": "python3"
  },
  "language_info": {
   "codemirror_mode": {
    "name": "ipython",
    "version": 3
   },
   "file_extension": ".py",
   "mimetype": "text/x-python",
   "name": "python",
   "nbconvert_exporter": "python",
   "pygments_lexer": "ipython3",
   "version": "3.11.2"
  },
  "orig_nbformat": 4,
  "vscode": {
   "interpreter": {
    "hash": "9c91997aab5c80800939ef7ebbc3f23cf1e44139d67d3f23153db1a2a22869ba"
   }
  }
 },
 "nbformat": 4,
 "nbformat_minor": 2
}
