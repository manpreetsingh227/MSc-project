{
 "cells": [
  {
   "attachments": {},
   "cell_type": "markdown",
   "metadata": {},
   "source": [
    "Define functions to load in tables of varying depth"
   ]
  },
  {
   "cell_type": "code",
   "execution_count": 8,
   "metadata": {},
   "outputs": [],
   "source": [
    "import pandas as pd\n",
    "def filter_df(fname):\n",
    "    # Load the entire DataFrame from a Parquet file\n",
    "    df = pd.read_parquet(path + fname + '.parquet')\n",
    "\n",
    "    for col in df.columns:\n",
    "        if col[-1] in (\"P\", \"A\"):\n",
    "            df[col] = df[col].astype('float32')\n",
    "\n",
    "        if df[col].dtype.name in ['object', 'string']:\n",
    "            df[col] = df[col].astype(\"string\").astype('category')\n",
    "            current_categories = df[col].cat.categories\n",
    "            new_categories = current_categories.to_list() + [\"Unknown\"]\n",
    "            new_dtype = pd.CategoricalDtype(categories=new_categories, ordered=True)\n",
    "            df[col] = df[col].astype(new_dtype)\n",
    "\n",
    "    return df\n",
    "\n",
    "def depth1_feats(df):\n",
    "    numeric_cols = df.select_dtypes(include=['number']).columns.tolist()\n",
    "    numeric_cols.remove('case_id')\n",
    "    numeric_cols.remove('num_group1')\n",
    "    aggfeats = df.groupby('case_id')[numeric_cols].agg('sum').reset_index()\n",
    "\n",
    "    notnum_cols = df.select_dtypes(exclude=['number']).columns.tolist()\n",
    "    notnum_cols.append('case_id')\n",
    "    filfeats = df[df['num_group1'] == 0]\n",
    "    filfeats = filfeats.drop('num_group1', axis=1)\n",
    "    filfeats = filfeats.filter(items=notnum_cols)\n",
    "    return pd.merge(filfeats, aggfeats, how='left', on='case_id')\n",
    "\n",
    "def depth2_feats(df):\n",
    "    numeric_cols = df.select_dtypes(include=['number']).columns.tolist()\n",
    "    numeric_cols.remove('case_id')\n",
    "    numeric_cols.remove('num_group1')\n",
    "    numeric_cols.remove('num_group2')\n",
    "    aggfeats = df.groupby('case_id')[numeric_cols].agg('sum').reset_index()\n",
    "\n",
    "    notnum_cols = df.select_dtypes(exclude=['number']).columns.tolist()\n",
    "    notnum_cols.append('case_id')\n",
    "    df = df[df['num_group1'] == 0]\n",
    "    df = df[df['num_group2'] == 0]\n",
    "    filterdf = df.drop(['num_group1', 'num_group2'], axis=1)\n",
    "    filterdf = filterdf.filter(items=notnum_cols)\n",
    "    return pd.merge(filterdf, aggfeats, how='left', on='case_id') "
   ]
  },
  {
   "attachments": {},
   "cell_type": "markdown",
   "metadata": {},
   "source": [
    "Load in base table"
   ]
  },
  {
   "cell_type": "code",
   "execution_count": 5,
   "metadata": {},
   "outputs": [],
   "source": [
    "path = '/rds/general/user/ms2524/home/amexproject/parquet_files/train/train_'\n",
    "base_cba = pd.read_parquet(path + \"base.parquet\", columns=['case_id','WEEK_NUM','target'])"
   ]
  },
  {
   "attachments": {},
   "cell_type": "markdown",
   "metadata": {},
   "source": [
    "Depth = 2"
   ]
  },
  {
   "attachments": {},
   "cell_type": "markdown",
   "metadata": {},
   "source": [
    "Loading in credit burerau A table"
   ]
  },
  {
   "cell_type": "code",
   "execution_count": 10,
   "metadata": {},
   "outputs": [],
   "source": [
    "all_chunks = []\n",
    "for id in range(11):\n",
    "    df = filter_df(f'credit_bureau_a_2_{id}')\n",
    "    processed = depth2_feats(df)\n",
    "    all_chunks.append(processed)\n",
    "\n",
    "# Concatenate everything at once\n",
    "tmp = pd.concat(all_chunks, ignore_index=True)\n",
    "\n",
    "# Merge with base\n",
    "data_cba = pd.merge(base_cba, tmp, how=\"left\", on=\"case_id\")\n"
   ]
  }
 ],
 "metadata": {
  "kernelspec": {
   "display_name": ".venv",
   "language": "python",
   "name": "python3"
  },
  "language_info": {
   "codemirror_mode": {
    "name": "ipython",
    "version": 3
   },
   "file_extension": ".py",
   "mimetype": "text/x-python",
   "name": "python",
   "nbconvert_exporter": "python",
   "pygments_lexer": "ipython3",
   "version": "3.11.2"
  },
  "orig_nbformat": 4,
  "vscode": {
   "interpreter": {
    "hash": "9c91997aab5c80800939ef7ebbc3f23cf1e44139d67d3f23153db1a2a22869ba"
   }
  }
 },
 "nbformat": 4,
 "nbformat_minor": 2
}
