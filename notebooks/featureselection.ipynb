{
 "cells": [
  {
   "cell_type": "code",
   "execution_count": 2,
   "metadata": {},
   "outputs": [],
   "source": [
    "import pandas as pd\n",
    "path = '/rds/general/user/ms2524/home/amexproject/parquet_files/train/train_'\n",
    "base_cba = pd.read_parquet(path + \"base.parquet\", columns=['case_id','WEEK_NUM','target'])"
   ]
  },
  {
   "cell_type": "code",
   "execution_count": 12,
   "metadata": {},
   "outputs": [],
   "source": [
    "applprev_1_0 = pd.read_parquet(path +'applprev_1_0.parquet')\n",
    "applprev_1_1 = pd.read_parquet(path +'applprev_1_1.parquet')\n",
    "applprev_2 = pd.read_parquet(path + 'applprev_2.parquet')"
   ]
  },
  {
   "cell_type": "code",
   "execution_count": 15,
   "metadata": {},
   "outputs": [],
   "source": [
    "debitcard_1 = pd.read_parquet(path +'debitcard_1.parquet')\n",
    "deposit_1 = pd.read_parquet(path +'deposit_1.parquet')\n",
    "other_1 = pd.read_parquet(path +'other_1.parquet')"
   ]
  },
  {
   "cell_type": "code",
   "execution_count": 17,
   "metadata": {},
   "outputs": [
    {
     "data": {
      "text/plain": [
       "Index(['case_id', 'actualdpd_943P', 'annuity_853A', 'approvaldate_319D',\n",
       "       'byoccupationinc_3656910L', 'cancelreason_3545846M', 'childnum_21L',\n",
       "       'creationdate_885D', 'credacc_actualbalance_314A',\n",
       "       'credacc_credlmt_575A', 'credacc_maxhisbal_375A',\n",
       "       'credacc_minhisbal_90A', 'credacc_status_367L',\n",
       "       'credacc_transactions_402L', 'credamount_590A', 'credtype_587L',\n",
       "       'currdebt_94A', 'dateactivated_425D', 'district_544M', 'downpmt_134A',\n",
       "       'dtlastpmt_581D', 'dtlastpmtallstes_3545839D', 'education_1138M',\n",
       "       'employedfrom_700D', 'familystate_726L', 'firstnonzeroinstldate_307D',\n",
       "       'inittransactioncode_279L', 'isbidproduct_390L', 'isdebitcard_527L',\n",
       "       'mainoccupationinc_437A', 'maxdpdtolerance_577P', 'num_group1',\n",
       "       'outstandingdebt_522A', 'pmtnum_8L', 'postype_4733339M',\n",
       "       'profession_152M', 'rejectreason_755M', 'rejectreasonclient_4145042M',\n",
       "       'revolvingaccount_394A', 'status_219L', 'tenor_203L'],\n",
       "      dtype='object')"
      ]
     },
     "execution_count": 17,
     "metadata": {},
     "output_type": "execute_result"
    }
   ],
   "source": [
    "applprev_1_0.columns"
   ]
  },
  {
   "cell_type": "code",
   "execution_count": 20,
   "metadata": {},
   "outputs": [],
   "source": [
    "import pandas as pd\n",
    "\n",
    "def missing_value_percentages(df):\n",
    "    missing_percent = df.isnull().mean() * 100\n",
    "    return missing_percent.sort_values(ascending=False)\n",
    "def detect_high_cardinality(df, threshold=50):\n",
    "    cat_cols = df.select_dtypes(include=['object', 'category']).columns\n",
    "    high_card = [col for col in cat_cols if df[col].nunique() > threshold]\n",
    "    return high_card\n"
   ]
  },
  {
   "cell_type": "code",
   "execution_count": 21,
   "metadata": {},
   "outputs": [
    {
     "data": {
      "text/plain": [
       "['approvaldate_319D',\n",
       " 'cancelreason_3545846M',\n",
       " 'creationdate_885D',\n",
       " 'dateactivated_425D',\n",
       " 'district_544M',\n",
       " 'dtlastpmt_581D',\n",
       " 'dtlastpmtallstes_3545839D',\n",
       " 'employedfrom_700D',\n",
       " 'firstnonzeroinstldate_307D',\n",
       " 'profession_152M']"
      ]
     },
     "execution_count": 21,
     "metadata": {},
     "output_type": "execute_result"
    }
   ],
   "source": [
    "\n",
    "detect_high_cardinality(applprev_1_0)"
   ]
  },
  {
   "cell_type": "code",
   "execution_count": 19,
   "metadata": {},
   "outputs": [
    {
     "data": {
      "text/plain": [
       "revolvingaccount_394A          95.970583\n",
       "credacc_minhisbal_90A          95.674083\n",
       "credacc_status_367L            95.674083\n",
       "credacc_maxhisbal_375A         95.674083\n",
       "credacc_transactions_402L      95.674083\n",
       "credacc_actualbalance_314A     95.674083\n",
       "isdebitcard_527L               93.565989\n",
       "byoccupationinc_3656910L       74.492268\n",
       "dtlastpmt_581D                 73.575296\n",
       "dtlastpmtallstes_3545839D      62.611956\n",
       "employedfrom_700D              56.096869\n",
       "childnum_21L                   50.258534\n",
       "dateactivated_425D             47.449896\n",
       "maxdpdtolerance_577P           46.747061\n",
       "approvaldate_319D              45.426043\n",
       "outstandingdebt_522A           32.871036\n",
       "currdebt_94A                   32.676961\n",
       "familystate_726L               32.029378\n",
       "firstnonzeroinstldate_307D      9.393125\n",
       "tenor_203L                      8.046770\n",
       "pmtnum_8L                       8.046770\n",
       "annuity_853A                    4.008839\n",
       "credamount_590A                 3.172300\n",
       "credtype_587L                   3.172300\n",
       "downpmt_134A                    3.172300\n",
       "inittransactioncode_279L        3.172300\n",
       "credacc_credlmt_575A            3.062749\n",
       "mainoccupationinc_437A          0.941743\n",
       "actualdpd_943P                  0.057464\n",
       "status_219L                     0.000900\n",
       "isbidproduct_390L               0.000900\n",
       "creationdate_885D               0.000900\n",
       "case_id                         0.000000\n",
       "cancelreason_3545846M           0.000000\n",
       "district_544M                   0.000000\n",
       "education_1138M                 0.000000\n",
       "num_group1                      0.000000\n",
       "rejectreason_755M               0.000000\n",
       "profession_152M                 0.000000\n",
       "postype_4733339M                0.000000\n",
       "rejectreasonclient_4145042M     0.000000\n",
       "dtype: float64"
      ]
     },
     "execution_count": 19,
     "metadata": {},
     "output_type": "execute_result"
    }
   ],
   "source": [
    "missing_value_percentages(applprev_1_0)"
   ]
  },
  {
   "cell_type": "code",
   "execution_count": 42,
   "metadata": {},
   "outputs": [
    {
     "data": {
      "text/html": [
       "<div>\n",
       "<style scoped>\n",
       "    .dataframe tbody tr th:only-of-type {\n",
       "        vertical-align: middle;\n",
       "    }\n",
       "\n",
       "    .dataframe tbody tr th {\n",
       "        vertical-align: top;\n",
       "    }\n",
       "\n",
       "    .dataframe thead th {\n",
       "        text-align: right;\n",
       "    }\n",
       "</style>\n",
       "<table border=\"1\" class=\"dataframe\">\n",
       "  <thead>\n",
       "    <tr style=\"text-align: right;\">\n",
       "      <th></th>\n",
       "      <th>case_id</th>\n",
       "      <th>actualdpd_943P</th>\n",
       "      <th>annuity_853A</th>\n",
       "      <th>approvaldate_319D</th>\n",
       "      <th>byoccupationinc_3656910L</th>\n",
       "      <th>cancelreason_3545846M</th>\n",
       "      <th>childnum_21L</th>\n",
       "      <th>creationdate_885D</th>\n",
       "      <th>credacc_actualbalance_314A</th>\n",
       "      <th>credacc_credlmt_575A</th>\n",
       "      <th>...</th>\n",
       "      <th>num_group1</th>\n",
       "      <th>outstandingdebt_522A</th>\n",
       "      <th>pmtnum_8L</th>\n",
       "      <th>postype_4733339M</th>\n",
       "      <th>profession_152M</th>\n",
       "      <th>rejectreason_755M</th>\n",
       "      <th>rejectreasonclient_4145042M</th>\n",
       "      <th>revolvingaccount_394A</th>\n",
       "      <th>status_219L</th>\n",
       "      <th>tenor_203L</th>\n",
       "    </tr>\n",
       "  </thead>\n",
       "  <tbody>\n",
       "    <tr>\n",
       "      <th>19</th>\n",
       "      <td>20</td>\n",
       "      <td>0.0</td>\n",
       "      <td>3979.4001</td>\n",
       "      <td>2018-11-02</td>\n",
       "      <td>NaN</td>\n",
       "      <td>a55475b1</td>\n",
       "      <td>NaN</td>\n",
       "      <td>2018-11-02</td>\n",
       "      <td>NaN</td>\n",
       "      <td>0.0</td>\n",
       "      <td>...</td>\n",
       "      <td>0</td>\n",
       "      <td>35748.6</td>\n",
       "      <td>12.0</td>\n",
       "      <td>a55475b1</td>\n",
       "      <td>a55475b1</td>\n",
       "      <td>a55475b1</td>\n",
       "      <td>a55475b1</td>\n",
       "      <td>NaN</td>\n",
       "      <td>A</td>\n",
       "      <td>12.0</td>\n",
       "    </tr>\n",
       "    <tr>\n",
       "      <th>20</th>\n",
       "      <td>20</td>\n",
       "      <td>0.0</td>\n",
       "      <td>4704.8003</td>\n",
       "      <td>None</td>\n",
       "      <td>NaN</td>\n",
       "      <td>P94_109_143</td>\n",
       "      <td>0.0</td>\n",
       "      <td>2018-01-16</td>\n",
       "      <td>NaN</td>\n",
       "      <td>0.0</td>\n",
       "      <td>...</td>\n",
       "      <td>1</td>\n",
       "      <td>NaN</td>\n",
       "      <td>30.0</td>\n",
       "      <td>a55475b1</td>\n",
       "      <td>a55475b1</td>\n",
       "      <td>P94_109_143</td>\n",
       "      <td>a55475b1</td>\n",
       "      <td>NaN</td>\n",
       "      <td>D</td>\n",
       "      <td>30.0</td>\n",
       "    </tr>\n",
       "  </tbody>\n",
       "</table>\n",
       "<p>2 rows × 41 columns</p>\n",
       "</div>"
      ],
      "text/plain": [
       "    case_id  actualdpd_943P  annuity_853A approvaldate_319D  \\\n",
       "19       20             0.0     3979.4001        2018-11-02   \n",
       "20       20             0.0     4704.8003              None   \n",
       "\n",
       "    byoccupationinc_3656910L cancelreason_3545846M  childnum_21L  \\\n",
       "19                       NaN              a55475b1           NaN   \n",
       "20                       NaN           P94_109_143           0.0   \n",
       "\n",
       "   creationdate_885D  credacc_actualbalance_314A  credacc_credlmt_575A  ...  \\\n",
       "19        2018-11-02                         NaN                   0.0  ...   \n",
       "20        2018-01-16                         NaN                   0.0  ...   \n",
       "\n",
       "    num_group1  outstandingdebt_522A pmtnum_8L  postype_4733339M  \\\n",
       "19           0               35748.6      12.0          a55475b1   \n",
       "20           1                   NaN      30.0          a55475b1   \n",
       "\n",
       "    profession_152M rejectreason_755M  rejectreasonclient_4145042M  \\\n",
       "19         a55475b1          a55475b1                     a55475b1   \n",
       "20         a55475b1       P94_109_143                     a55475b1   \n",
       "\n",
       "   revolvingaccount_394A status_219L  tenor_203L  \n",
       "19                   NaN           A        12.0  \n",
       "20                   NaN           D        30.0  \n",
       "\n",
       "[2 rows x 41 columns]"
      ]
     },
     "execution_count": 42,
     "metadata": {},
     "output_type": "execute_result"
    }
   ],
   "source": [
    "applprev_1_0[applprev_1_0[\"case_id\"]==20]"
   ]
  },
  {
   "cell_type": "code",
   "execution_count": 24,
   "metadata": {},
   "outputs": [
    {
     "data": {
      "text/plain": [
       "Index(['case_id', 'actualdpd_943P', 'annuity_853A', 'approvaldate_319D',\n",
       "       'byoccupationinc_3656910L', 'cancelreason_3545846M', 'childnum_21L',\n",
       "       'creationdate_885D', 'credacc_actualbalance_314A',\n",
       "       'credacc_credlmt_575A', 'credacc_maxhisbal_375A',\n",
       "       'credacc_minhisbal_90A', 'credacc_status_367L',\n",
       "       'credacc_transactions_402L', 'credamount_590A', 'credtype_587L',\n",
       "       'currdebt_94A', 'dateactivated_425D', 'district_544M', 'downpmt_134A',\n",
       "       'dtlastpmt_581D', 'dtlastpmtallstes_3545839D', 'education_1138M',\n",
       "       'employedfrom_700D', 'familystate_726L', 'firstnonzeroinstldate_307D',\n",
       "       'inittransactioncode_279L', 'isbidproduct_390L', 'isdebitcard_527L',\n",
       "       'mainoccupationinc_437A', 'maxdpdtolerance_577P', 'num_group1',\n",
       "       'outstandingdebt_522A', 'pmtnum_8L', 'postype_4733339M',\n",
       "       'profession_152M', 'rejectreason_755M', 'rejectreasonclient_4145042M',\n",
       "       'revolvingaccount_394A', 'status_219L', 'tenor_203L'],\n",
       "      dtype='object')"
      ]
     },
     "execution_count": 24,
     "metadata": {},
     "output_type": "execute_result"
    }
   ],
   "source": [
    "applprev_1_0.columns"
   ]
  }
 ],
 "metadata": {
  "kernelspec": {
   "display_name": ".venv",
   "language": "python",
   "name": "python3"
  },
  "language_info": {
   "codemirror_mode": {
    "name": "ipython",
    "version": 3
   },
   "file_extension": ".py",
   "mimetype": "text/x-python",
   "name": "python",
   "nbconvert_exporter": "python",
   "pygments_lexer": "ipython3",
   "version": "3.11.2"
  },
  "orig_nbformat": 4,
  "vscode": {
   "interpreter": {
    "hash": "9c91997aab5c80800939ef7ebbc3f23cf1e44139d67d3f23153db1a2a22869ba"
   }
  }
 },
 "nbformat": 4,
 "nbformat_minor": 2
}
