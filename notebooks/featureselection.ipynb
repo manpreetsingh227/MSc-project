{
 "cells": [
  {
   "cell_type": "code",
   "execution_count": 2,
   "metadata": {},
   "outputs": [],
   "source": [
    "import pandas as pd\n",
    "path = '/rds/general/user/ms2524/home/amexproject/parquet_files/train/train_'\n",
    "base_cba = pd.read_parquet(path + \"base.parquet\", columns=['case_id','WEEK_NUM','target'])"
   ]
  },
  {
   "cell_type": "code",
   "execution_count": 12,
   "metadata": {},
   "outputs": [],
   "source": [
    "applprev_1_0 = pd.read_parquet(path +'applprev_1_0.parquet')\n",
    "applprev_1_1 = pd.read_parquet(path +'applprev_1_1.parquet')\n",
    "applprev_2 = pd.read_parquet(path + 'applprev_2.parquet')"
   ]
  },
  {
   "cell_type": "code",
   "execution_count": 15,
   "metadata": {},
   "outputs": [],
   "source": [
    "debitcard_1 = pd.read_parquet(path +'debitcard_1.parquet')\n",
    "deposit_1 = pd.read_parquet(path +'deposit_1.parquet')\n",
    "other_1 = pd.read_parquet(path +'other_1.parquet')"
   ]
  },
  {
   "cell_type": "code",
   "execution_count": 17,
   "metadata": {},
   "outputs": [
    {
     "data": {
      "text/plain": [
       "Index(['case_id', 'actualdpd_943P', 'annuity_853A', 'approvaldate_319D',\n",
       "       'byoccupationinc_3656910L', 'cancelreason_3545846M', 'childnum_21L',\n",
       "       'creationdate_885D', 'credacc_actualbalance_314A',\n",
       "       'credacc_credlmt_575A', 'credacc_maxhisbal_375A',\n",
       "       'credacc_minhisbal_90A', 'credacc_status_367L',\n",
       "       'credacc_transactions_402L', 'credamount_590A', 'credtype_587L',\n",
       "       'currdebt_94A', 'dateactivated_425D', 'district_544M', 'downpmt_134A',\n",
       "       'dtlastpmt_581D', 'dtlastpmtallstes_3545839D', 'education_1138M',\n",
       "       'employedfrom_700D', 'familystate_726L', 'firstnonzeroinstldate_307D',\n",
       "       'inittransactioncode_279L', 'isbidproduct_390L', 'isdebitcard_527L',\n",
       "       'mainoccupationinc_437A', 'maxdpdtolerance_577P', 'num_group1',\n",
       "       'outstandingdebt_522A', 'pmtnum_8L', 'postype_4733339M',\n",
       "       'profession_152M', 'rejectreason_755M', 'rejectreasonclient_4145042M',\n",
       "       'revolvingaccount_394A', 'status_219L', 'tenor_203L'],\n",
       "      dtype='object')"
      ]
     },
     "execution_count": 17,
     "metadata": {},
     "output_type": "execute_result"
    }
   ],
   "source": [
    "applprev_1_0.columns"
   ]
  },
  {
   "cell_type": "code",
   "execution_count": 20,
   "metadata": {},
   "outputs": [],
   "source": [
    "import pandas as pd\n",
    "\n",
    "def missing_value_percentages(df):\n",
    "    missing_percent = df.isnull().mean() * 100\n",
    "    return missing_percent.sort_values(ascending=False)\n",
    "def detect_high_cardinality(df, threshold=50):\n",
    "    cat_cols = df.select_dtypes(include=['object', 'category']).columns\n",
    "    high_card = [col for col in cat_cols if df[col].nunique() > threshold]\n",
    "    return high_card\n"
   ]
  },
  {
   "cell_type": "code",
   "execution_count": 21,
   "metadata": {},
   "outputs": [
    {
     "data": {
      "text/plain": [
       "['approvaldate_319D',\n",
       " 'cancelreason_3545846M',\n",
       " 'creationdate_885D',\n",
       " 'dateactivated_425D',\n",
       " 'district_544M',\n",
       " 'dtlastpmt_581D',\n",
       " 'dtlastpmtallstes_3545839D',\n",
       " 'employedfrom_700D',\n",
       " 'firstnonzeroinstldate_307D',\n",
       " 'profession_152M']"
      ]
     },
     "execution_count": 21,
     "metadata": {},
     "output_type": "execute_result"
    }
   ],
   "source": [
    "\n",
    "detect_high_cardinality(applprev_1_0)"
   ]
  },
  {
   "cell_type": "code",
   "execution_count": 19,
   "metadata": {},
   "outputs": [
    {
     "data": {
      "text/plain": [
       "revolvingaccount_394A          95.970583\n",
       "credacc_minhisbal_90A          95.674083\n",
       "credacc_status_367L            95.674083\n",
       "credacc_maxhisbal_375A         95.674083\n",
       "credacc_transactions_402L      95.674083\n",
       "credacc_actualbalance_314A     95.674083\n",
       "isdebitcard_527L               93.565989\n",
       "byoccupationinc_3656910L       74.492268\n",
       "dtlastpmt_581D                 73.575296\n",
       "dtlastpmtallstes_3545839D      62.611956\n",
       "employedfrom_700D              56.096869\n",
       "childnum_21L                   50.258534\n",
       "dateactivated_425D             47.449896\n",
       "maxdpdtolerance_577P           46.747061\n",
       "approvaldate_319D              45.426043\n",
       "outstandingdebt_522A           32.871036\n",
       "currdebt_94A                   32.676961\n",
       "familystate_726L               32.029378\n",
       "firstnonzeroinstldate_307D      9.393125\n",
       "tenor_203L                      8.046770\n",
       "pmtnum_8L                       8.046770\n",
       "annuity_853A                    4.008839\n",
       "credamount_590A                 3.172300\n",
       "credtype_587L                   3.172300\n",
       "downpmt_134A                    3.172300\n",
       "inittransactioncode_279L        3.172300\n",
       "credacc_credlmt_575A            3.062749\n",
       "mainoccupationinc_437A          0.941743\n",
       "actualdpd_943P                  0.057464\n",
       "status_219L                     0.000900\n",
       "isbidproduct_390L               0.000900\n",
       "creationdate_885D               0.000900\n",
       "case_id                         0.000000\n",
       "cancelreason_3545846M           0.000000\n",
       "district_544M                   0.000000\n",
       "education_1138M                 0.000000\n",
       "num_group1                      0.000000\n",
       "rejectreason_755M               0.000000\n",
       "profession_152M                 0.000000\n",
       "postype_4733339M                0.000000\n",
       "rejectreasonclient_4145042M     0.000000\n",
       "dtype: float64"
      ]
     },
     "execution_count": 19,
     "metadata": {},
     "output_type": "execute_result"
    }
   ],
   "source": [
    "missing_value_percentages(applprev_1_0)"
   ]
  },
  {
   "cell_type": "code",
   "execution_count": 49,
   "metadata": {},
   "outputs": [
    {
     "name": "stdout",
     "output_type": "stream",
     "text": [
      "<class 'pandas.core.frame.DataFrame'>\n",
      "RangeIndex: 3887684 entries, 0 to 3887683\n",
      "Data columns (total 41 columns):\n",
      " #   Column                       Dtype  \n",
      "---  ------                       -----  \n",
      " 0   case_id                      int64  \n",
      " 1   actualdpd_943P               float64\n",
      " 2   annuity_853A                 float64\n",
      " 3   approvaldate_319D            object \n",
      " 4   byoccupationinc_3656910L     float64\n",
      " 5   cancelreason_3545846M        object \n",
      " 6   childnum_21L                 float64\n",
      " 7   creationdate_885D            object \n",
      " 8   credacc_actualbalance_314A   float64\n",
      " 9   credacc_credlmt_575A         float64\n",
      " 10  credacc_maxhisbal_375A       float64\n",
      " 11  credacc_minhisbal_90A        float64\n",
      " 12  credacc_status_367L          object \n",
      " 13  credacc_transactions_402L    float64\n",
      " 14  credamount_590A              float64\n",
      " 15  credtype_587L                object \n",
      " 16  currdebt_94A                 float64\n",
      " 17  dateactivated_425D           object \n",
      " 18  district_544M                object \n",
      " 19  downpmt_134A                 float64\n",
      " 20  dtlastpmt_581D               object \n",
      " 21  dtlastpmtallstes_3545839D    object \n",
      " 22  education_1138M              object \n",
      " 23  employedfrom_700D            object \n",
      " 24  familystate_726L             object \n",
      " 25  firstnonzeroinstldate_307D   object \n",
      " 26  inittransactioncode_279L     object \n",
      " 27  isbidproduct_390L            object \n",
      " 28  isdebitcard_527L             object \n",
      " 29  mainoccupationinc_437A       float64\n",
      " 30  maxdpdtolerance_577P         float64\n",
      " 31  num_group1                   int64  \n",
      " 32  outstandingdebt_522A         float64\n",
      " 33  pmtnum_8L                    float64\n",
      " 34  postype_4733339M             object \n",
      " 35  profession_152M              object \n",
      " 36  rejectreason_755M            object \n",
      " 37  rejectreasonclient_4145042M  object \n",
      " 38  revolvingaccount_394A        float64\n",
      " 39  status_219L                  object \n",
      " 40  tenor_203L                   float64\n",
      "dtypes: float64(18), int64(2), object(21)\n",
      "memory usage: 1.2+ GB\n"
     ]
    }
   ],
   "source": [
    "applprev_1_0.info()"
   ]
  },
  {
   "cell_type": "code",
   "execution_count": 24,
   "metadata": {},
   "outputs": [
    {
     "data": {
      "text/plain": [
       "Index(['case_id', 'actualdpd_943P', 'annuity_853A', 'approvaldate_319D',\n",
       "       'byoccupationinc_3656910L', 'cancelreason_3545846M', 'childnum_21L',\n",
       "       'creationdate_885D', 'credacc_actualbalance_314A',\n",
       "       'credacc_credlmt_575A', 'credacc_maxhisbal_375A',\n",
       "       'credacc_minhisbal_90A', 'credacc_status_367L',\n",
       "       'credacc_transactions_402L', 'credamount_590A', 'credtype_587L',\n",
       "       'currdebt_94A', 'dateactivated_425D', 'district_544M', 'downpmt_134A',\n",
       "       'dtlastpmt_581D', 'dtlastpmtallstes_3545839D', 'education_1138M',\n",
       "       'employedfrom_700D', 'familystate_726L', 'firstnonzeroinstldate_307D',\n",
       "       'inittransactioncode_279L', 'isbidproduct_390L', 'isdebitcard_527L',\n",
       "       'mainoccupationinc_437A', 'maxdpdtolerance_577P', 'num_group1',\n",
       "       'outstandingdebt_522A', 'pmtnum_8L', 'postype_4733339M',\n",
       "       'profession_152M', 'rejectreason_755M', 'rejectreasonclient_4145042M',\n",
       "       'revolvingaccount_394A', 'status_219L', 'tenor_203L'],\n",
       "      dtype='object')"
      ]
     },
     "execution_count": 24,
     "metadata": {},
     "output_type": "execute_result"
    }
   ],
   "source": [
    "applprev_1_0.columns"
   ]
  },
  {
   "cell_type": "code",
   "execution_count": 46,
   "metadata": {},
   "outputs": [
    {
     "data": {
      "text/plain": [
       "credacc_cards_status_52L\n",
       "None           13733404\n",
       "CANCELLED        167031\n",
       "ACTIVE           109642\n",
       "INACTIVE          62968\n",
       "BLOCKED            2098\n",
       "RENEWED             304\n",
       "UNCONFIRMED          40\n",
       "Name: count, dtype: int64"
      ]
     },
     "execution_count": 46,
     "metadata": {},
     "output_type": "execute_result"
    }
   ],
   "source": [
    "applprev_2[\"credacc_cards_status_52L\"].value_counts(dropna=False)"
   ]
  },
  {
   "cell_type": "code",
   "execution_count": null,
   "metadata": {},
   "outputs": [],
   "source": []
  }
 ],
 "metadata": {
  "kernelspec": {
   "display_name": ".venv",
   "language": "python",
   "name": "python3"
  },
  "language_info": {
   "codemirror_mode": {
    "name": "ipython",
    "version": 3
   },
   "file_extension": ".py",
   "mimetype": "text/x-python",
   "name": "python",
   "nbconvert_exporter": "python",
   "pygments_lexer": "ipython3",
   "version": "3.11.2"
  },
  "orig_nbformat": 4,
  "vscode": {
   "interpreter": {
    "hash": "9c91997aab5c80800939ef7ebbc3f23cf1e44139d67d3f23153db1a2a22869ba"
   }
  }
 },
 "nbformat": 4,
 "nbformat_minor": 2
}
